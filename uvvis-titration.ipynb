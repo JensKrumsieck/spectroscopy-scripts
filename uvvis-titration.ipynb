{
 "cells": [
  {
   "cell_type": "markdown",
   "metadata": {},
   "source": [
    "### Variables"
   ]
  },
  {
   "cell_type": "code",
   "execution_count": null,
   "metadata": {},
   "outputs": [],
   "source": [
    "from datasource import DataSource\n",
    "### Give DataSource a FolderPath, mass, the Complexes Molar Mass and the amount of conc TFA used in 50 mL DCM\n",
    "### Use 3-5 mg Isoporphyrin in 50 mL DCM and take 10 mL of it. Dilute to 50 mL and do the UV/Vis Titration\n",
    "\n",
    "#src = DataSource(r'C:\\Users\\jenso\\PowerFolders\\Forschung\\UVVis\\JK038\\Titra', 3.5, 899.75245, .1) # OMePy\n",
    "#src = DataSource(r'C:\\Users\\jenso\\PowerFolders\\Forschung\\UVVis\\JK040\\Titra', 4.0, 1082.96245, .2) # OMeDipy\n",
    "#src = DataSource(r'C:\\Users\\jenso\\PowerFolders\\Forschung\\UVVis\\JK084\\Titra', 4.0, 803.73645, .1) # 2ThPy\n",
    "#src = DataSource(r'C:\\Users\\jenso\\PowerFolders\\Forschung\\UVVis\\JK086\\Titra', 4.0, 851.75545, .6) # TolPy\n",
    "#src = DataSource(r'C:\\Users\\jenso\\PowerFolders\\Forschung\\UVVis\\JK103', 4.0, 779.64845, 2) # PhPy\n",
    "#src = DataSource(r'C:\\Users\\jenso\\PowerFolders\\Forschung\\UVVis\\JK175\\\\', 3.5, 851.5321, 1) # 4FPy\n",
    "src =  DataSource(r'C:\\Users\\jenso\\PowerFolders\\Forschung\\practical courses\\B Praktikum Chris\\UVVis\\CK06\\3mL TFA Lösung', 4.4,1119.12745,3.0) # A2B3Dipy: OMe/Mes\n",
    "df = src.loadData()"
   ]
  },
  {
   "cell_type": "markdown",
   "metadata": {},
   "source": [
    "### Settings"
   ]
  },
  {
   "cell_type": "code",
   "execution_count": null,
   "metadata": {},
   "outputs": [],
   "source": [
    "from settings import applySettings\n",
    "applySettings()"
   ]
  },
  {
   "cell_type": "markdown",
   "metadata": {},
   "source": [
    "### Plot"
   ]
  },
  {
   "cell_type": "code",
   "execution_count": null,
   "metadata": {},
   "outputs": [],
   "source": [
    "corr = src.calculateCorrection(df)\n",
    "src.plot(corr)\n",
    "soret_nm = corr.iloc[src.soret][0]\n",
    "q_nm = corr.iloc[src.q][0]\n",
    "ph = src.calculatePH(corr, src.soret) # may change to src.q/src.soret\n",
    "print(\"Soret Band at \" + str(soret_nm) + \" nm\")\n",
    "print(\"Q Band at \" + str(q_nm) + \" nm\")\n",
    "print(\"pH value is \" + str(ph))\n"
   ]
  },
  {
   "cell_type": "markdown",
   "metadata": {},
   "source": [
    "### pH Ergebnisse:"
   ]
  },
  {
   "cell_type": "code",
   "execution_count": null,
   "metadata": {},
   "outputs": [],
   "source": [
    "OMePy = 2.62\n",
    "OMeDipy = 1.66\n",
    "ThPy = 2.22\n",
    "TolPy = 1.24\n",
    "PhPy = 0.88\n",
    "FPy = 0.92\n",
    "A2B3Dipy_OMe_Mes = 0.62"
   ]
  }
 ],
 "metadata": {
  "interpreter": {
   "hash": "b3ba2566441a7c06988d0923437866b63cedc61552a5af99d1f4fb67d367b25f"
  },
  "kernelspec": {
   "display_name": "Python 3.9.7 ('base')",
   "language": "python",
   "name": "python3"
  },
  "language_info": {
   "codemirror_mode": {
    "name": "ipython",
    "version": 3
   },
   "file_extension": ".py",
   "mimetype": "text/x-python",
   "name": "python",
   "nbconvert_exporter": "python",
   "pygments_lexer": "ipython3",
   "version": "3.9.7"
  },
  "orig_nbformat": 4
 },
 "nbformat": 4,
 "nbformat_minor": 2
}
