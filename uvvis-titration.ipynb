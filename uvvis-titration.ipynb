{
 "cells": [
  {
   "cell_type": "markdown",
   "metadata": {},
   "source": [
    "### Variables"
   ]
  },
  {
   "cell_type": "code",
   "execution_count": null,
   "metadata": {
    "dotnet_interactive": {
     "language": "csharp"
    }
   },
   "outputs": [],
   "source": [
    "from datasource import DataSource\n",
    "### Give DataSource a FolderPath, mass, the Complexes Molar Mass and the amount of conc TFA used in 50 mL DCM\n",
    "### Use 3-5 mg Isoporphyrin in 50 mL DCM and take 10 mL of it. Dilute to 50 mL and do the UV/Vis Titration\n",
    "\n",
    "#src = DataSource(r'C:\\Users\\jenso\\PowerFolders\\Forschung\\UVVis\\JK038\\Titra', 3.5, 899.75245, .1) # OMePy\n",
    "#src = DataSource(r'C:\\Users\\jenso\\PowerFolders\\Forschung\\UVVis\\JK040\\Titra', 4.0, 1082.96245, .2) # OMeDipy\n",
    "#src = DataSource(r'C:\\Users\\jenso\\PowerFolders\\Forschung\\UVVis\\JK084\\Titra', 4.0, 803.73645, .1) # 2ThPy\n",
    "#src = DataSource(r'C:\\Users\\jenso\\PowerFolders\\Forschung\\UVVis\\JK086\\Titra', 4.0, 851.75545, .6) # TolPy\n",
    "#src = DataSource(r'C:\\Users\\jenso\\PowerFolders\\Forschung\\UVVis\\JK103', 4.0, 779.64845, 2) # PhPy\n",
    "#src = DataSource(r'C:\\Users\\jenso\\PowerFolders\\Forschung\\UVVis\\JK175\\\\', 3.5, 851.5321, 1) # 4FPy\n",
    "#src =  DataSource(r'C:\\Users\\jenso\\PowerFolders\\Forschung\\practical courses\\B Praktikum Chris\\UVVis\\CK06\\3mL TFA Lösung', 4.4,1119.12745,3.0) # A2B3Dipy: OMe/Mes\n",
    "src =  DataSource(r'C:\\Users\\jenso\\PowerFolders\\Forschung\\practical courses\\B Praktikum Chris\\UVVis\\CK15\\20mL', 4.4, 1056.36192, 20.0) # A2B3Dipy: Ph/Mes\n",
    "usePH = True\n",
    "df = src.loadData()"
   ]
  },
  {
   "cell_type": "markdown",
   "metadata": {},
   "source": [
    "### Settings"
   ]
  },
  {
   "cell_type": "code",
   "execution_count": null,
   "metadata": {
    "dotnet_interactive": {
     "language": "csharp"
    }
   },
   "outputs": [],
   "source": [
    "from settings import applySettings\n",
    "applySettings()"
   ]
  },
  {
   "cell_type": "markdown",
   "metadata": {},
   "source": [
    "### Plot"
   ]
  },
  {
   "cell_type": "code",
   "execution_count": null,
   "metadata": {
    "dotnet_interactive": {
     "language": "csharp"
    }
   },
   "outputs": [],
   "source": [
    "corr = src.calculateCorrection(df)\n",
    "src.max = 85000 # uncomment to manually adjust scaling\n",
    "fig,ax = src.plot(corr)\n",
    "soret_nm = corr.iloc[src.soret][0]\n",
    "q_nm = corr.iloc[src.q][0]\n",
    "ph = src.calculatePH(corr, src.q, 1, usePH) # may change to src.q/src.soret, set offset (to 1)  if wrong point is found\n",
    "print(\"Soret Band at \" + str(soret_nm) + \" nm\")\n",
    "print(\"Q Band at \" + str(q_nm) + \" nm\")\n",
    "print(\"pH value is \" + str(ph))\n"
   ]
  },
  {
   "cell_type": "markdown",
   "metadata": {},
   "source": [
    "### pH Ergebnisse:"
   ]
  },
  {
   "cell_type": "code",
   "execution_count": null,
   "metadata": {
    "dotnet_interactive": {
     "language": "csharp"
    }
   },
   "outputs": [],
   "source": [
    "###pH/-log[TFA] /c [mol/L]\n",
    "OMePy = 0.79 / 2.25 / 0.006\n",
    "OMeDipy = 0.65 / 1.72 / 0.020\n",
    "ThPy = 0.74 / 2.05 / 0.009\n",
    "TolPy = 0.58 / 1.40 / 0.040\n",
    "PhPy = 0.52 / 1.03 / 0.093\n",
    "FPy = 0.53 / 1.09 / 0.081\n",
    "A2B3Dipy_OMe_Mes = 0.48 / 0.54 / 0.288\n",
    "A2B3Dipy_Ph_Mes = 0.43 / -0.06 / 1.15"
   ]
  }
 ],
 "metadata": {
  "interpreter": {
   "hash": "ad2bdc8ecc057115af97d19610ffacc2b4e99fae6737bb82f5d7fb13d2f2c186"
  },
  "kernelspec": {
   "display_name": "Python 3.9.7 ('base')",
   "language": "python",
   "name": "python3"
  },
  "language_info": {
   "codemirror_mode": {
    "name": "ipython",
    "version": 3
   },
   "file_extension": ".py",
   "mimetype": "text/x-python",
   "name": "python",
   "nbconvert_exporter": "python",
   "pygments_lexer": "ipython3",
   "version": "3.9.7"
  },
  "orig_nbformat": 4
 },
 "nbformat": 4,
 "nbformat_minor": 2
}
