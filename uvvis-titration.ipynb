{
 "cells": [
  {
   "cell_type": "markdown",
   "metadata": {},
   "source": [
    "### Variables"
   ]
  },
  {
   "cell_type": "markdown",
   "metadata": {},
   "source": [
    "Molecular Data"
   ]
  },
  {
   "cell_type": "code",
   "execution_count": null,
   "metadata": {},
   "outputs": [],
   "source": [
    "weight = 3.5 # in mg\n",
    "molar = 851.5321 # in g/mol\n",
    "usedpart = 1/5 # amount taken from initial \n",
    "vol = 50 # mL"
   ]
  },
  {
   "cell_type": "markdown",
   "metadata": {},
   "source": [
    "Path"
   ]
  },
  {
   "cell_type": "code",
   "execution_count": null,
   "metadata": {},
   "outputs": [],
   "source": [
    "path = r'C:\\Users\\jenso\\PowerFolders\\Forschung\\UVVis\\JK175\\\\'"
   ]
  },
  {
   "cell_type": "markdown",
   "metadata": {},
   "source": [
    "TFA data"
   ]
  },
  {
   "cell_type": "code",
   "execution_count": null,
   "metadata": {},
   "outputs": [],
   "source": [
    "tfa = 1 # mL\n",
    "vTfa = 50 # mL\n",
    "MTfa = 114.02 # g/mol\n",
    "rTfa = 1.48 # g/mL\n",
    "nTfa = tfa*rTfa/MTfa # mol\n",
    "npVTfa = nTfa/vTfa # mol/mL\n",
    "print(str(nTfa) + \" mol, \" + str(npVTfa) + \" mol/mL\")"
   ]
  },
  {
   "cell_type": "markdown",
   "metadata": {},
   "source": [
    "Calculate Moles"
   ]
  },
  {
   "cell_type": "code",
   "execution_count": null,
   "metadata": {},
   "outputs": [],
   "source": [
    "initial_moles = weight/1000/molar\n",
    "moles = initial_moles*usedpart\n",
    "print(str(initial_moles) + \" mol initial, \" + str(moles) + \" mol used\")"
   ]
  },
  {
   "cell_type": "markdown",
   "metadata": {},
   "source": [
    "### Load Data"
   ]
  },
  {
   "cell_type": "code",
   "execution_count": null,
   "metadata": {},
   "outputs": [],
   "source": [
    "import os\n",
    "import fnmatch\n",
    "from natsort import humansorted\n",
    "import pandas as pd"
   ]
  },
  {
   "cell_type": "code",
   "execution_count": null,
   "metadata": {},
   "outputs": [],
   "source": [
    "data = []\n",
    "for root, dir, files in os.walk(path):\n",
    "    for file in fnmatch.filter(files, \"*.csv\"):\n",
    "        data.append(os.path.join(root, file))\n",
    "data = humansorted(data)"
   ]
  },
  {
   "cell_type": "code",
   "execution_count": null,
   "metadata": {},
   "outputs": [],
   "source": [
    "df = pd.DataFrame()\n",
    "for item in data:\n",
    "    df = pd.concat([df, (pd.read_csv(item, header=1, usecols=[0,1]))], axis=1)\n",
    "df"
   ]
  },
  {
   "cell_type": "markdown",
   "metadata": {},
   "source": [
    "### Print Uncorrected Spectra"
   ]
  },
  {
   "cell_type": "code",
   "execution_count": null,
   "metadata": {},
   "outputs": [],
   "source": [
    "import matplotlib.pyplot as plt\n",
    "import numpy as np\n",
    "num_spc = int(df.shape[1])\n",
    "fig,ax = plt.subplots()\n",
    "for i in range(0, num_spc, 2):\n",
    "    x = df.iloc[:,i]\n",
    "    y = df.iloc[:,i+1]\n",
    "    plt.plot(x,y)\n",
    "ax.set_xlim(250,1100)\n",
    "ax.set_ylim(0,.75)"
   ]
  },
  {
   "cell_type": "markdown",
   "metadata": {},
   "source": [
    "### Correction"
   ]
  },
  {
   "cell_type": "code",
   "execution_count": null,
   "metadata": {},
   "outputs": [],
   "source": [
    "corr = df.copy(deep=True)\n",
    "max = 0\n",
    "idx = corr[corr.iloc[:,0].lt(300.0)].index[0]\n",
    "soret = corr.iloc[:idx, 1].idxmax()\n",
    "\n",
    "\n",
    "for i in range(0, num_spc, 2):\n",
    "    fac = moles/(((i/2)+50)/1000)\n",
    "    corr.iloc[:,i+1] = corr.iloc[:,i+1]/fac\n",
    "    if max < corr.iloc[:,i+1][soret]:\n",
    "        max = corr.iloc[:,i+1][soret]\n",
    "corr"
   ]
  },
  {
   "cell_type": "code",
   "execution_count": null,
   "metadata": {},
   "outputs": [],
   "source": [
    "from matplotlib.colors import LinearSegmentedColormap\n",
    "colors = [(0, 0, 0), (1, 0, 0)] # first color is black, last is red\n",
    "cm = LinearSegmentedColormap.from_list(\n",
    "        \"Custom\", colors, N=20)"
   ]
  },
  {
   "cell_type": "code",
   "execution_count": null,
   "metadata": {},
   "outputs": [],
   "source": [
    "#cm = plt.get_cmap('Set3') \n",
    "cols = cm(np.linspace(0,1,int(num_spc/2) ))\n",
    "fig,ax = plt.subplots()\n",
    "for i in range(0, num_spc, 2):\n",
    "    x = corr.iloc[:,i]\n",
    "    y = corr.iloc[:,i+1]\n",
    "    plt.plot(x,y, color=cols[int(i/2)])\n",
    "ax.set_xlim(250,1100)\n",
    "ax.set_ylim(0, max + 0.1*max)\n"
   ]
  }
 ],
 "metadata": {
  "interpreter": {
   "hash": "b3ba2566441a7c06988d0923437866b63cedc61552a5af99d1f4fb67d367b25f"
  },
  "kernelspec": {
   "display_name": "Python 3.9.7 ('base')",
   "language": "python",
   "name": "python3"
  },
  "language_info": {
   "codemirror_mode": {
    "name": "ipython",
    "version": 3
   },
   "file_extension": ".py",
   "mimetype": "text/x-python",
   "name": "python",
   "nbconvert_exporter": "python",
   "pygments_lexer": "ipython3",
   "version": "3.9.7"
  },
  "orig_nbformat": 4
 },
 "nbformat": 4,
 "nbformat_minor": 2
}
